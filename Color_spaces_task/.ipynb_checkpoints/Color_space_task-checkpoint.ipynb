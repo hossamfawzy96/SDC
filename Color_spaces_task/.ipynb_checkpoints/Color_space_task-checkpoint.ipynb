{
 "cells": [
  {
   "cell_type": "code",
   "execution_count": null,
   "metadata": {},
   "outputs": [],
   "source": [
    "import numpy as np\n",
    "import cv2\n",
    "import matplotlib.pyplot as plt\n",
    "import matplotlib.image as mpimg\n",
    "%matplotlib inline"
   ]
  },
  {
   "cell_type": "markdown",
   "metadata": {},
   "source": [
    "## Load Task Image"
   ]
  },
  {
   "cell_type": "code",
   "execution_count": null,
   "metadata": {},
   "outputs": [],
   "source": [
    "task_image = mpimg.imread('./test5.jpg')\n",
    "f, (ax1) = plt.subplots(1, 1, figsize=(20,10))\n",
    "ax1.imshow(task_image)"
   ]
  },
  {
   "cell_type": "markdown",
   "metadata": {},
   "source": [
    "## HLS Model"
   ]
  },
  {
   "cell_type": "code",
   "execution_count": null,
   "metadata": {},
   "outputs": [],
   "source": [
    "#convert to HLS\n",
    "\n",
    "\n",
    "# visualize\n",
    "f, (ax1,ax2,ax3) = plt.subplots(1, 3, figsize=(20,10))\n",
    "ax1.set_title('h_channel', fontsize=20)\n",
    "ax1.imshow(h_channel,cmap='gray')\n",
    "ax2.set_title('l_channel', fontsize=20)\n",
    "ax2.imshow(l_channel,cmap='gray')\n",
    "ax3.set_title('s_channel', fontsize=20)\n",
    "ax3.imshow(s_channel,cmap='gray')\n",
    "\n"
   ]
  },
  {
   "cell_type": "markdown",
   "metadata": {},
   "source": [
    "## HSV Model"
   ]
  },
  {
   "cell_type": "code",
   "execution_count": null,
   "metadata": {},
   "outputs": [],
   "source": [
    "#convert to HSV\n",
    "\n",
    "# visualize\n",
    "f, (ax1,ax2,ax3) = plt.subplots(1, 3, figsize=(20,10))\n",
    "ax1.set_title('h_channel', fontsize=20)\n",
    "ax1.imshow(h_channel,cmap='gray')\n",
    "ax2.set_title('s_channel', fontsize=20)\n",
    "ax2.imshow(s_channel,cmap='gray')\n",
    "ax3.set_title('v_channel', fontsize=20)\n",
    "ax3.imshow(v_channel,cmap='gray')"
   ]
  },
  {
   "cell_type": "markdown",
   "metadata": {},
   "source": [
    "## LAB Model"
   ]
  },
  {
   "cell_type": "code",
   "execution_count": null,
   "metadata": {},
   "outputs": [],
   "source": [
    "#convert to LAB\n",
    "\n",
    "# visualize\n",
    "f, (ax1,ax2,ax3) = plt.subplots(1, 3, figsize=(20,10))\n",
    "ax1.set_title('l_channel', fontsize=20)\n",
    "ax1.imshow(l_channel,cmap='gray')\n",
    "ax2.set_title('a_channel', fontsize=20)\n",
    "ax2.imshow(a_channel,cmap='gray')\n",
    "ax3.set_title('b_channel', fontsize=20)\n",
    "ax3.imshow(b_channel,cmap='gray')"
   ]
  },
  {
   "cell_type": "markdown",
   "metadata": {},
   "source": [
    "## RGB Model"
   ]
  },
  {
   "cell_type": "code",
   "execution_count": null,
   "metadata": {},
   "outputs": [],
   "source": [
    "\n",
    "\n",
    "# visualize\n",
    "f, (ax1,ax2,ax3) = plt.subplots(1, 3, figsize=(20,10))\n",
    "ax1.set_title('r_channel', fontsize=20)\n",
    "ax1.imshow(r_channel,cmap='gray')\n",
    "ax2.set_title('g_channel', fontsize=20)\n",
    "ax2.imshow(g_channel,cmap='gray')\n",
    "ax3.set_title('b_channel', fontsize=20)\n",
    "ax3.imshow(b_channel,cmap='gray')"
   ]
  },
  {
   "cell_type": "markdown",
   "metadata": {},
   "source": [
    "## Color Threshold for The White Line"
   ]
  },
  {
   "cell_type": "code",
   "execution_count": null,
   "metadata": {},
   "outputs": [],
   "source": [
    "def white(img, white_thresh = (220,255)):\n",
    "   \n",
    "   \n",
    "    #masking\n",
    "    binary = np.zeros_like(channel)\n",
    "     \n",
    "    return binary"
   ]
  },
  {
   "cell_type": "markdown",
   "metadata": {},
   "source": [
    "## Color Threshold for The Yellow Line"
   ]
  },
  {
   "cell_type": "code",
   "execution_count": null,
   "metadata": {},
   "outputs": [],
   "source": [
    "def yellow(img, yellow_thresh = (220,255)):\n",
    "    \n",
    "    #masking\n",
    "    binary = np.zeros_like(b_channel)\n",
    "     \n",
    "    return binary"
   ]
  },
  {
   "cell_type": "markdown",
   "metadata": {},
   "source": [
    "## Combined Threshold"
   ]
  },
  {
   "cell_type": "code",
   "execution_count": null,
   "metadata": {},
   "outputs": [],
   "source": [
    "binary_white = white(task_image, white_thresh = (,))\n",
    "binary_yellow = yellow(task_image, yellow_thresh = (,))\n",
    "\n",
    "#combine both the white and yellow binaries in combined_binary\n",
    "binary_combined = np.zeros_like(binary_yellow)\n",
    "\n",
    "\n",
    "# visualize\n",
    "f, (ax1,ax2,ax3) = plt.subplots(1, 3, figsize=(20,10))\n",
    "ax1.set_title('1st channel', fontsize=20)\n",
    "ax1.imshow(binary_white,cmap='gray')\n",
    "ax2.set_title('2nd channel', fontsize=20)\n",
    "ax2.imshow(binary_yellow,cmap='gray')\n",
    "ax3.set_title('combined', fontsize=20)\n",
    "ax3.imshow(binary_combined,cmap='gray')"
   ]
  },
  {
   "cell_type": "code",
   "execution_count": null,
   "metadata": {},
   "outputs": [],
   "source": []
  },
  {
   "cell_type": "code",
   "execution_count": null,
   "metadata": {},
   "outputs": [],
   "source": []
  }
 ],
 "metadata": {
  "kernelspec": {
   "display_name": "Python 3",
   "language": "python",
   "name": "python3"
  },
  "language_info": {
   "codemirror_mode": {
    "name": "ipython",
    "version": 3
   },
   "file_extension": ".py",
   "mimetype": "text/x-python",
   "name": "python",
   "nbconvert_exporter": "python",
   "pygments_lexer": "ipython3",
   "version": "3.5.2"
  },
  "widgets": {
   "state": {},
   "version": "1.1.2"
  }
 },
 "nbformat": 4,
 "nbformat_minor": 2
}
