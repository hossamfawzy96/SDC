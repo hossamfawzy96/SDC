{
 "cells": [
  {
   "cell_type": "code",
   "execution_count": null,
   "metadata": {},
   "outputs": [],
   "source": [
    "import numpy as np\n",
    "import cv2\n",
    "import matplotlib.pyplot as plt\n",
    "import matplotlib.image as mpimg\n",
    "%matplotlib inline"
   ]
  },
  {
   "cell_type": "markdown",
   "metadata": {},
   "source": [
    "## Load Task Image"
   ]
  },
  {
   "cell_type": "code",
   "execution_count": null,
   "metadata": {},
   "outputs": [],
   "source": [
    "task_image = mpimg.imread('./test5.jpg')\n",
    "f, (ax1) = plt.subplots(1, 1, figsize=(20,10))\n",
    "ax1.imshow(task_image)"
   ]
  },
  {
   "cell_type": "markdown",
   "metadata": {},
   "source": [
    "## Sobel X / Y Threshold"
   ]
  },
  {
   "cell_type": "code",
   "execution_count": null,
   "metadata": {},
   "outputs": [],
   "source": [
    "# X or Y sobel gradient\n",
    "def abs_sobel_thresh(image, orient='x', sobel_kernel=3, thresh=(0, 255)):\n",
    "    # Convert to grayscale using cv2.COLOR_RGB2GRAY as the conversion\n",
    "    \n",
    "    # Apply x or y gradient with the OpenCV Sobel() function\n",
    "    # and take the absolute value\n",
    "   \n",
    "    # Rescale back to 8 bit integer\n",
    "    abs_sobel = np.uint8(255*abs_sobel/np.max(abs_sobel))\n",
    "    \n",
    "    # Create a binary image of ones where threshold is met, zeros otherwise\n",
    "    abs_sobel_output = np.zeros_like(abs_sobel)\n",
    "    \n",
    "\n",
    "    # Return the binary image\n",
    "    return abs_sobel_output"
   ]
  },
  {
   "cell_type": "markdown",
   "metadata": {},
   "source": [
    "## Sobel Magnitude Threshold"
   ]
  },
  {
   "cell_type": "code",
   "execution_count": null,
   "metadata": {},
   "outputs": [],
   "source": [
    "# Magnitude using X and Y sobel gradient\n",
    "def mag_thresh(image, sobel_kernel=3, mag_thresh=(0, 255)):\n",
    "    # Convert to grayscale using cv2.COLOR_RGB2GRAY as the conversion\n",
    "   \n",
    "    # Calculate the gradient magnitude\n",
    "    \n",
    "    # Rescale to 8 bit\n",
    "    gradmag = np.uint8(255*gradmag/np.max(gradmag))\n",
    "   \n",
    "    # Create a binary image of ones where threshold is met, zeros otherwise\n",
    "    mag_binary = np.zeros_like(gradmag)\n",
    "   \n",
    "\n",
    "    # Return the binary image\n",
    "    return mag_binary"
   ]
  },
  {
   "cell_type": "markdown",
   "metadata": {},
   "source": [
    "## Sobel Direction Threshold"
   ]
  },
  {
   "cell_type": "code",
   "execution_count": null,
   "metadata": {},
   "outputs": [],
   "source": [
    "# Direction using X and Y sobel gradient\n",
    "def dir_threshold(image, sobel_kernel=3, thresh=(0, np.pi/2)):\n",
    "    # Convert to grayscale using cv2.COLOR_RGB2GRAY as the conversion\n",
    "    \n",
    "    # Calculate the gradient direction using np.arctan2 function\n",
    "    \n",
    "    # Rescale to 8 bit\n",
    "    absgraddir = np.uint8(255*absgraddir/np.max(absgraddir))\n",
    "   \n",
    "    # Create a binary image of ones where threshold is met, zeros otherwise    \n",
    "    dir_binary =  np.zeros_like(absgraddir)\n",
    "\n",
    "    # Return the binary image\n",
    "    return dir_binary"
   ]
  },
  {
   "cell_type": "markdown",
   "metadata": {},
   "source": [
    "## Visualize Sobel Thresholds Results"
   ]
  },
  {
   "cell_type": "code",
   "execution_count": null,
   "metadata": {},
   "outputs": [],
   "source": [
    "# X gradient\n",
    "\n",
    "# Y gradient\n",
    "\n",
    "# Sobel gradient direction\n",
    "\n",
    "# Sobel gradient magnitude\n",
    "\n",
    "\n",
    "# visualize results\n",
    "f, (ax1,ax2,ax3,ax4) = plt.subplots(1, 4, figsize=(20,10))\n",
    "# X gradient\n",
    "ax1.set_title('X gradient', fontsize=20)\n",
    "ax1.imshow(x_sobel,cmap='gray')\n",
    "# Y gradient\n",
    "ax2.set_title('Y gradient', fontsize=20)\n",
    "ax2.imshow(y_sobel,cmap='gray')\n",
    "# Sobel gradient direction\n",
    "ax3.set_title('Sobel gradient direction', fontsize=20)\n",
    "ax3.imshow(dir_sobel,cmap='gray')\n",
    "# Sobel gradient magnitude\n",
    "ax4.set_title('Sobel gradient magnitud', fontsize=20)\n",
    "ax4.imshow(mag_sobel,cmap='gray')"
   ]
  }
 ],
 "metadata": {
  "kernelspec": {
   "display_name": "Python 3",
   "language": "python",
   "name": "python3"
  },
  "language_info": {
   "codemirror_mode": {
    "name": "ipython",
    "version": 3
   },
   "file_extension": ".py",
   "mimetype": "text/x-python",
   "name": "python",
   "nbconvert_exporter": "python",
   "pygments_lexer": "ipython3",
   "version": "3.5.2"
  },
  "widgets": {
   "state": {},
   "version": "1.1.2"
  }
 },
 "nbformat": 4,
 "nbformat_minor": 2
}
